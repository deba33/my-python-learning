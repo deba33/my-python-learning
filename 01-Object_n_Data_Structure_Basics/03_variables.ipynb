{
 "cells": [
  {
   "cell_type": "markdown",
   "metadata": {},
   "source": [
    "# Rules for choosing variable names\n",
    "- Names can not be start with a number.\n",
    "- There can be no spaces in the name, use `_` instead.\n",
    "- can't use any of these symbols - ` ' \" , < > / ? | \\ ( ) ! @ # $ % ^ & * ~ - + = [ ] { } . `\n",
    "- It is considered best practice that names are lower case.\n",
    "- Avoid using words that have special meaning in Python like `list` and `str`."
   ]
  },
  {
   "cell_type": "markdown",
   "metadata": {},
   "source": [
    "- Pyhton uses **Dynamic Typing**.\n",
    "- This means you can reassign variables to different data types.\n",
    "- This makes Python very flexible in assigning data types, this is different than other languages that are **Statically-Typed**.\n",
    "  \n",
    "Example:\n",
    "```\n",
    " my_dog = 2\n",
    " my_dog = ['x','y']\n",
    "```\n",
    "\n",
    "- **Pros**\n",
    "    - Very easy to work with\n",
    "    - Faster development time\n",
    "- **Cons**\n",
    "    -  May result in bugs for unexpected data types"
   ]
  },
  {
   "cell_type": "code",
   "execution_count": null,
   "metadata": {},
   "outputs": [],
   "source": [
    "a = 20\n"
   ]
  },
  {
   "cell_type": "code",
   "execution_count": null,
   "metadata": {},
   "outputs": [],
   "source": [
    "a"
   ]
  },
  {
   "cell_type": "code",
   "execution_count": null,
   "metadata": {},
   "outputs": [],
   "source": [
    "a + a"
   ]
  },
  {
   "cell_type": "code",
   "execution_count": null,
   "metadata": {},
   "outputs": [],
   "source": [
    "a = a + 30"
   ]
  },
  {
   "cell_type": "code",
   "execution_count": null,
   "metadata": {},
   "outputs": [],
   "source": [
    "a"
   ]
  }
 ],
 "metadata": {
  "kernelspec": {
   "display_name": "Python 3.10.8 64-bit",
   "language": "python",
   "name": "python3"
  },
  "language_info": {
   "codemirror_mode": {
    "name": "ipython",
    "version": 3
   },
   "file_extension": ".py",
   "mimetype": "text/x-python",
   "name": "python",
   "nbconvert_exporter": "python",
   "pygments_lexer": "ipython3",
   "version": "3.10.8"
  },
  "orig_nbformat": 4,
  "vscode": {
   "interpreter": {
    "hash": "e7370f93d1d0cde622a1f8e1c04877d8463912d04d973331ad4851f04de6915a"
   }
  }
 },
 "nbformat": 4,
 "nbformat_minor": 2
}
