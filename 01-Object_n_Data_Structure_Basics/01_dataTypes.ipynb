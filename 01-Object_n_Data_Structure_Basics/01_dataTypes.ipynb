{
 "cells": [
  {
   "cell_type": "markdown",
   "metadata": {},
   "source": [
    "| Name | Type | Description | Example |\n",
    "| ---- | ---- | ----------- | ------- |\n",
    "| Integers | int | Whole Numbers | `3, 300, 200` |\n",
    "| Floating Point | float | Numbers with Decimal Points | `2.3, 4.6, 10.0` |\n",
    "| Strings | str | Ordered Sequence of characters | `\"hello\", 'sammy', '2000'` |\n",
    "| Lists | list | Ordered Sequence of Objects | `[10, 'hello', 200.1]` |\n",
    "| Dictionaries | dict | Unordered Key:Value pairs | `{'key1':'value', 'name':'deba'}` |\n",
    "| Tuples | tup | Ordered immutable sequence of objects | `(10, 'hello', 10.3)` |\n",
    "| Sets | set | Unordered collection of unique objects | `{'a', 'b'}` |\n",
    "| Booleans | bool | Logical value indicating **True** or **False** | `true, false` |"
   ]
  }
 ],
 "metadata": {
  "language_info": {
   "name": "python"
  },
  "orig_nbformat": 4
 },
 "nbformat": 4,
 "nbformat_minor": 2
}
